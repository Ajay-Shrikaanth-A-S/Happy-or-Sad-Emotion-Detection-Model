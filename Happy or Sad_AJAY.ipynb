{
 "cells": [
  {
   "cell_type": "code",
   "execution_count": null,
   "id": "013a6d92-e519-4f29-a498-194a6d1d4125",
   "metadata": {},
   "outputs": [],
   "source": [
    "import cv2\n",
    "print(cv2.__version__)"
   ]
  },
  {
   "cell_type": "code",
   "execution_count": 2,
   "id": "68345287-2b6d-45cf-997b-ddcc0c8fc08d",
   "metadata": {},
   "outputs": [],
   "source": [
    "from tensorflow.keras.preprocessing.image import ImageDataGenerator \n",
    "from tensorflow.keras.preprocessing import image\n",
    "from tensorflow.keras.optimizers import RMSprop\n",
    "import matplotlib.pyplot as plt\n",
    "import tensorflow as tf\n",
    "import numpy as np\n",
    "import cv2\n",
    "import os"
   ]
  },
  {
   "cell_type": "code",
   "execution_count": null,
   "id": "668f7e90-d03c-4e1b-8ac2-5b1682c222f8",
   "metadata": {},
   "outputs": [],
   "source": [
    "img = image.load_img('Documents/Dataset/Happy or Sad AJAY/training/happy_ajay/1.png')\n",
    "plt.imshow(img)\n"
   ]
  },
  {
   "cell_type": "code",
   "execution_count": null,
   "id": "1a9ca4d5-9453-4a97-89e6-53cc128c5086",
   "metadata": {},
   "outputs": [],
   "source": [
    "cv2.imread('Documents/Dataset/Happy or Sad AJAY/training/happy_ajay/1.png').shape"
   ]
  },
  {
   "cell_type": "code",
   "execution_count": 5,
   "id": "9ede4f5b-89e4-44df-af65-0af1a5c02b3d",
   "metadata": {},
   "outputs": [],
   "source": [
    "train = ImageDataGenerator(rescale = 1/255)\n",
    "validation = ImageDataGenerator(rescale = 1/255)"
   ]
  },
  {
   "cell_type": "code",
   "execution_count": null,
   "id": "0885121b-f597-49e5-9ad4-d7eb333046de",
   "metadata": {},
   "outputs": [],
   "source": [
    "train_dataset = train.flow_from_directory('Documents/Dataset/Happy or Sad AJAY/training',\n",
    "                                        target_size = (200,200), \n",
    "                                         batch_size = 3, \n",
    "                                         class_mode = 'binary')\n",
    "\n",
    "validation_dataset = validation.flow_from_directory('Documents/Dataset/Happy or Sad AJAY/Validation',\n",
    "                                        target_size = (200,200), \n",
    "                                         batch_size = 3, \n",
    "                                         class_mode = 'binary')\n"
   ]
  },
  {
   "cell_type": "code",
   "execution_count": null,
   "id": "fe0d9f3f-b74c-45c2-9bc6-6bd64642cacb",
   "metadata": {},
   "outputs": [],
   "source": [
    "train_dataset.class_indices"
   ]
  },
  {
   "cell_type": "code",
   "execution_count": 8,
   "id": "867faa45-cb90-4dbe-8b02-873b4399030b",
   "metadata": {},
   "outputs": [],
   "source": [
    "model = tf.keras.models.Sequential([\n",
    "    # First Convolutional Layer\n",
    "    tf.keras.layers.Conv2D(16, (3, 3), activation='relu', input_shape=(200, 200, 3)),\n",
    "    tf.keras.layers.MaxPool2D(2, 2),\n",
    "\n",
    "    # Second Convolutional Layer\n",
    "    tf.keras.layers.Conv2D(32, (3, 3), activation='relu'),\n",
    "    tf.keras.layers.MaxPool2D(2, 2),\n",
    "\n",
    "    # Third Convolutional Layer\n",
    "    tf.keras.layers.Conv2D(64, (3, 3), activation='relu'),\n",
    "    tf.keras.layers.MaxPool2D(2, 2),\n",
    "\n",
    "    # Flattening Layer\n",
    "    tf.keras.layers.Flatten(),\n",
    "\n",
    "    # Fully Connected Layer\n",
    "    tf.keras.layers.Dense(512, activation='relu'),\n",
    "\n",
    "    # Output Layer\n",
    "    tf.keras.layers.Dense(1, activation='sigmoid')\n",
    "])"
   ]
  },
  {
   "cell_type": "code",
   "execution_count": null,
   "id": "bc64139c-5e77-45f4-b3d8-8b513e1bfda1",
   "metadata": {},
   "outputs": [],
   "source": [
    "model.compile(loss = 'binary_crossentropy',\n",
    "              optimizer = RMSprop(lr=0.001),\n",
    "              metrics = ['accuracy']\n",
    "    \n",
    ")"
   ]
  },
  {
   "cell_type": "code",
   "execution_count": null,
   "id": "f4dcfdd5-3843-41e7-9325-d775dc1b2387",
   "metadata": {},
   "outputs": [],
   "source": [
    "model_fit = model.fit(\n",
    "    train_dataset,\n",
    "    steps_per_epoch=3,\n",
    "    epochs=50,\n",
    "    validation_data=validation_dataset\n",
    ")\n"
   ]
  },
  {
   "cell_type": "code",
   "execution_count": null,
   "id": "0dc01d95-ce41-477b-b794-b3c77afcb48a",
   "metadata": {},
   "outputs": [],
   "source": [
    "dir_path = 'Documents/Dataset/Happy or Sad AJAY/testing'\n",
    "\n",
    "for i in os.listdir(dir_path):\n",
    "    img = image.load_img(os.path.join(dir_path, i), target_size=(200, 200))  # Fixed path and closing parenthesis\n",
    "    plt.imshow(np.array(img))  # Convert PIL image to numpy array for display\n",
    "    plt.show()\n",
    "\n",
    "    X = image.img_to_array(img)\n",
    "    X = np.expand_dims(X, axis=0)  # Corrected typo\n",
    "    images = np.vstack([X])  # Stack the image for prediction\n",
    "\n",
    "    # Predict using the model\n",
    "    val = model.predict(images)\n",
    "\n",
    "    # Output based on prediction result\n",
    "    if val[0] == 0:\n",
    "        print('Ajay is Happy')\n",
    "    else:\n",
    "        print('Ajay is Sad')\n"
   ]
  }
 ],
 "metadata": {
  "kernelspec": {
   "display_name": "Python 3 (ipykernel)",
   "language": "python",
   "name": "python3"
  },
  "language_info": {
   "codemirror_mode": {
    "name": "ipython",
    "version": 3
   },
   "file_extension": ".py",
   "mimetype": "text/x-python",
   "name": "python",
   "nbconvert_exporter": "python",
   "pygments_lexer": "ipython3",
   "version": "3.8.19"
  }
 },
 "nbformat": 4,
 "nbformat_minor": 5
}
